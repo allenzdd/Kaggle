{
 "cells": [
  {
   "cell_type": "markdown",
   "metadata": {},
   "source": [
    "# CNN in image classification"
   ]
  },
  {
   "cell_type": "code",
   "execution_count": 1,
   "metadata": {},
   "outputs": [
    {
     "name": "stderr",
     "output_type": "stream",
     "text": [
      "/usr/local/lib/python3.6/site-packages/h5py/__init__.py:36: FutureWarning: Conversion of the second argument of issubdtype from `float` to `np.floating` is deprecated. In future, it will be treated as `np.float64 == np.dtype(float).type`.\n",
      "  from ._conv import register_converters as _register_converters\n",
      "Using TensorFlow backend.\n"
     ]
    }
   ],
   "source": [
    "'''\n",
    "Environment: \n",
    "Ubuntu 18LTS 1080Ti\n",
    "\n",
    "Package version: \n",
    "Python3.6, keras2.1.6, backend is tensorflow-gpu 1.8.0\n",
    "numpy 1.14.2, matplotlib 2.1.2 \n",
    "'''\n",
    "import keras\n",
    "import os\n",
    "import numpy as np\n",
    "import pandas as pd\n",
    "import matplotlib.image as mpimg\n",
    "from keras.models import Model\n",
    "from keras.layers import Dense, Dropout, Flatten, Input, AveragePooling2D, merge, Activation\n",
    "from keras.layers import Conv2D, MaxPooling2D, BatchNormalization,AveragePooling2D,Dropout\n",
    "from keras.layers import Concatenate, GlobalAveragePooling2D\n",
    "from keras.optimizers import Adam\n",
    "from keras.models import load_model\n",
    "from keras.preprocessing.image import ImageDataGenerator\n",
    "from keras import optimizers\n",
    "import matplotlib.pyplot as plt\n",
    "import pydot\n",
    "%matplotlib inline"
   ]
  },
  {
   "cell_type": "code",
   "execution_count": 2,
   "metadata": {},
   "outputs": [],
   "source": [
    "# Hyperparameters\n",
    "splitindex = int(42000 * 0.9)\n",
    "epochs = 35\n",
    "lr = 0.0003\n",
    "dropout_rate_1 = 0.3\n",
    "dropout_rate_2 = 0.2\n",
    "dropout_rate_3 = 0.1\n",
    "batch_size = 256\n",
    "num_classes = 62\n",
    "adm = optimizers.Adam(lr=lr,decay=0.000001)"
   ]
  },
  {
   "cell_type": "code",
   "execution_count": 3,
   "metadata": {},
   "outputs": [],
   "source": [
    "# Path using Ubuntu\n",
    "trainDat_path = '/Users/allenzhang/Desktop/kaggle_data_set/train.csv'\n",
    "# y_train_path = '/home/quanchen/Shared/train.txt'\n",
    "\n",
    "# x_vali_path = '/home/quanchen/Shared/vali-set/'\n",
    "# y_vali_path = '/home/quanchen/Shared/vali.txt'"
   ]
  },
  {
   "cell_type": "markdown",
   "metadata": {},
   "source": [
    "## Load data to numpy array"
   ]
  },
  {
   "cell_type": "code",
   "execution_count": 4,
   "metadata": {},
   "outputs": [],
   "source": [
    "dataDF = pd.read_csv(trainDat_path)\n",
    "\n",
    "dataDF_features = dataDF[dataDF.columns[1:]]\n",
    "dataDF_label = dataDF['label']\n",
    "\n",
    "data_array = np.array(dataDF_features).reshape(42000,28,28,1)\n",
    "label_onehot = keras.utils.to_categorical(dataDF_label, 10)\n",
    "\n",
    "indecies = np.random.permutation(len(data_array))\n",
    "train_data = data_array[indecies][:splitindex]\n",
    "train_label = label_onehot[indecies][:splitindex]\n",
    "\n",
    "\n",
    "vali_data = data_array[indecies][splitindex:]\n",
    "vali_label = label_onehot[indecies][splitindex:]"
   ]
  },
  {
   "cell_type": "code",
   "execution_count": 5,
   "metadata": {},
   "outputs": [],
   "source": [
    "del dataDF\n",
    "del dataDF_features\n",
    "del dataDF_label"
   ]
  },
  {
   "cell_type": "markdown",
   "metadata": {},
   "source": [
    "## Cheack whether data is right after shullfering"
   ]
  },
  {
   "cell_type": "code",
   "execution_count": 15,
   "metadata": {},
   "outputs": [
    {
     "name": "stdout",
     "output_type": "stream",
     "text": [
      "8\n",
      "[0. 0. 0. 0. 0. 0. 0. 0. 1. 0.]\n"
     ]
    },
    {
     "data": {
      "text/plain": [
       "<matplotlib.image.AxesImage at 0x116cb99e8>"
      ]
     },
     "execution_count": 15,
     "metadata": {},
     "output_type": "execute_result"
    },
    {
     "data": {
      "image/png": "[encoded data removed]",
      "text/plain": [
       "<matplotlib.figure.Figure at 0x11697d3c8>"
      ]
     },
     "metadata": {},
     "output_type": "display_data"
    }
   ],
   "source": [
    "checkindex = 100\n",
    "print(np.argmax(vali_label[checkindex]))\n",
    "print(vali_label[checkindex])\n",
    "plt.imshow(vali_data[checkindex].reshape(28,28),cmap ='gray')"
   ]
  },
  {
   "cell_type": "markdown",
   "metadata": {},
   "source": [
    "## Define ImageDataGenerator\n",
    "This funtion will be use to rotate train image, shift their location \n",
    "accoding to width and height and zoom them in or out. "
   ]
  },
  {
   "cell_type": "code",
   "execution_count": 78,
   "metadata": {},
   "outputs": [],
   "source": [
    "# data generator with one data augmentation\n",
    "datagen = ImageDataGenerator(\n",
    "    #featurewise_std_normalization=True,\n",
    "    rotation_range=12,\n",
    "    width_shift_range=0.05,\n",
    "    height_shift_range=0.05,\n",
    "    zoom_range = 0.05)\n",
    "\n",
    "datagen.fit(train_data,augment=True,rounds=1)"
   ]
  },
  {
   "cell_type": "markdown",
   "metadata": {},
   "source": [
    "## Model detail\n",
    "Input --> Droupout --> Conv --> Maxpooling -->\n",
    "Droupout --> Conv -->Maxpooling --> Droupout -->\n",
    "Conv --> Maxpolling --> Dense --> Dense --> Dense"
   ]
  },
  {
   "cell_type": "code",
   "execution_count": 84,
   "metadata": {},
   "outputs": [],
   "source": [
    "# Model detail\n",
    "input = Input(shape=(28, 28, 1,))\n",
    "input_dp = Dropout(0.1)(input)\n",
    "conv_1 = Conv2D(32, (5,5), use_bias=True ,padding='same',activation = 'relu')(input_dp)\n",
    "maxpool_1 = MaxPooling2D(pool_size=(2, 2))(conv_1)\n",
    "maxpool_1_dp = Dropout(0.15)(maxpool_1)\n",
    "conv_2 = Conv2D(64, (5,5), use_bias=True ,padding='same',activation = 'relu')(maxpool_1_dp)\n",
    "maxpool_2 = MaxPooling2D(pool_size=(2, 2))(conv_2)\n",
    "maxpool_2_dp = Dropout(0.15)(maxpool_2)\n",
    "conv_3 = Conv2D(64, (5,5), use_bias=True ,padding='same',activation = 'relu')(maxpool_2_dp)\n",
    "maxpool_3 = MaxPooling2D(pool_size=(2, 2))(conv_3)\n",
    "# dp = Dropout(0.25)(maxpool_2)\n",
    "\n",
    "flat_1 = Flatten()(maxpool_3)\n",
    "dense_1 = Dense(1024,activation='relu',use_bias=True)(flat_1)\n",
    "dense_2 = Dense(1024,activation='relu',use_bias=True)(dense_1)\n",
    "output = Dense(10,activation='softmax',use_bias=True)(dense_2)"
   ]
  },
  {
   "cell_type": "code",
   "execution_count": 85,
   "metadata": {},
   "outputs": [
    {
     "name": "stdout",
     "output_type": "stream",
     "text": [
      "_________________________________________________________________\n",
      "Layer (type)                 Output Shape              Param #   \n",
      "=================================================================\n",
      "input_2 (InputLayer)         (None, 28, 28, 1)         0         \n",
      "_________________________________________________________________\n",
      "dropout_4 (Dropout)          (None, 28, 28, 1)         0         \n",
      "_________________________________________________________________\n",
      "conv2d_4 (Conv2D)            (None, 28, 28, 32)        832       \n",
      "_________________________________________________________________\n",
      "max_pooling2d_4 (MaxPooling2 (None, 14, 14, 32)        0         \n",
      "_________________________________________________________________\n",
      "dropout_5 (Dropout)          (None, 14, 14, 32)        0         \n",
      "_________________________________________________________________\n",
      "conv2d_5 (Conv2D)            (None, 14, 14, 64)        51264     \n",
      "_________________________________________________________________\n",
      "max_pooling2d_5 (MaxPooling2 (None, 7, 7, 64)          0         \n",
      "_________________________________________________________________\n",
      "dropout_6 (Dropout)          (None, 7, 7, 64)          0         \n",
      "_________________________________________________________________\n",
      "conv2d_6 (Conv2D)            (None, 7, 7, 64)          102464    \n",
      "_________________________________________________________________\n",
      "max_pooling2d_6 (MaxPooling2 (None, 3, 3, 64)          0         \n",
      "_________________________________________________________________\n",
      "flatten_2 (Flatten)          (None, 576)               0         \n",
      "_________________________________________________________________\n",
      "dense_4 (Dense)              (None, 1024)              590848    \n",
      "_________________________________________________________________\n",
      "dense_5 (Dense)              (None, 1024)              1049600   \n",
      "_________________________________________________________________\n",
      "dense_6 (Dense)              (None, 10)                10250     \n",
      "=================================================================\n",
      "Total params: 1,805,258\n",
      "Trainable params: 1,805,258\n",
      "Non-trainable params: 0\n",
      "_________________________________________________________________\n"
     ]
    }
   ],
   "source": [
    "model = Model(inputs=[input], outputs=[output])\n",
    "model.summary()"
   ]
  },
  {
   "cell_type": "markdown",
   "metadata": {},
   "source": [
    "## Compile our model"
   ]
  },
  {
   "cell_type": "code",
   "execution_count": 86,
   "metadata": {},
   "outputs": [],
   "source": [
    "# determine Loss function and Optimizer\n",
    "model.compile(loss='categorical_crossentropy',\n",
    "              optimizer=adm,\n",
    "              metrics=['accuracy'])"
   ]
  },
  {
   "cell_type": "code",
   "execution_count": 87,
   "metadata": {
    "scrolled": false
   },
   "outputs": [
    {
     "name": "stdout",
     "output_type": "stream",
     "text": [
      "Epoch 1/200\n",
      " 30/131 [=====>........................] - ETA: 1:08 - loss: 14.4588 - acc: 0.1018"
     ]
    },
    {
     "ename": "KeyboardInterrupt",
     "evalue": "",
     "output_type": "error",
     "traceback": [
      "\u001b[0;31m---------------------------------------------------------------------------\u001b[0m",
      "\u001b[0;31mKeyboardInterrupt\u001b[0m                         Traceback (most recent call last)",
      "\u001b[0;32m<ipython-input-87-369861756b57>\u001b[0m in \u001b[0;36m<module>\u001b[0;34m()\u001b[0m\n\u001b[1;32m      2\u001b[0m history = model.fit_generator(datagen.flow(train_data, train_label, batch_size=batch_size),\n\u001b[1;32m      3\u001b[0m                     \u001b[0msteps_per_epoch\u001b[0m\u001b[0;34m=\u001b[0m\u001b[0mlen\u001b[0m\u001b[0;34m(\u001b[0m\u001b[0mtrain_data\u001b[0m\u001b[0;34m)\u001b[0m\u001b[0;34m/\u001b[0m\u001b[0mbatch_size\u001b[0m\u001b[0;34m,\u001b[0m\u001b[0;34m\u001b[0m\u001b[0m\n\u001b[0;32m----> 4\u001b[0;31m                     epochs=epochs,validation_data=(vali_data,vali_label))\n\u001b[0m",
      "\u001b[0;32m/usr/local/lib/python3.6/site-packages/keras/legacy/interfaces.py\u001b[0m in \u001b[0;36mwrapper\u001b[0;34m(*args, **kwargs)\u001b[0m\n\u001b[1;32m     89\u001b[0m                 warnings.warn('Update your `' + object_name +\n\u001b[1;32m     90\u001b[0m                               '` call to the Keras 2 API: ' + signature, stacklevel=2)\n\u001b[0;32m---> 91\u001b[0;31m             \u001b[0;32mreturn\u001b[0m \u001b[0mfunc\u001b[0m\u001b[0;34m(\u001b[0m\u001b[0;34m*\u001b[0m\u001b[0margs\u001b[0m\u001b[0;34m,\u001b[0m \u001b[0;34m**\u001b[0m\u001b[0mkwargs\u001b[0m\u001b[0;34m)\u001b[0m\u001b[0;34m\u001b[0m\u001b[0m\n\u001b[0m\u001b[1;32m     92\u001b[0m         \u001b[0mwrapper\u001b[0m\u001b[0;34m.\u001b[0m\u001b[0m_original_function\u001b[0m \u001b[0;34m=\u001b[0m \u001b[0mfunc\u001b[0m\u001b[0;34m\u001b[0m\u001b[0m\n\u001b[1;32m     93\u001b[0m         \u001b[0;32mreturn\u001b[0m \u001b[0mwrapper\u001b[0m\u001b[0;34m\u001b[0m\u001b[0m\n",
      "\u001b[0;32m/usr/local/lib/python3.6/site-packages/keras/engine/training.py\u001b[0m in \u001b[0;36mfit_generator\u001b[0;34m(self, generator, steps_per_epoch, epochs, verbose, callbacks, validation_data, validation_steps, class_weight, max_queue_size, workers, use_multiprocessing, shuffle, initial_epoch)\u001b[0m\n\u001b[1;32m   1424\u001b[0m             \u001b[0muse_multiprocessing\u001b[0m\u001b[0;34m=\u001b[0m\u001b[0muse_multiprocessing\u001b[0m\u001b[0;34m,\u001b[0m\u001b[0;34m\u001b[0m\u001b[0m\n\u001b[1;32m   1425\u001b[0m             \u001b[0mshuffle\u001b[0m\u001b[0;34m=\u001b[0m\u001b[0mshuffle\u001b[0m\u001b[0;34m,\u001b[0m\u001b[0;34m\u001b[0m\u001b[0m\n\u001b[0;32m-> 1426\u001b[0;31m             initial_epoch=initial_epoch)\n\u001b[0m\u001b[1;32m   1427\u001b[0m \u001b[0;34m\u001b[0m\u001b[0m\n\u001b[1;32m   1428\u001b[0m     \u001b[0;34m@\u001b[0m\u001b[0minterfaces\u001b[0m\u001b[0;34m.\u001b[0m\u001b[0mlegacy_generator_methods_support\u001b[0m\u001b[0;34m\u001b[0m\u001b[0m\n",
      "\u001b[0;32m/usr/local/lib/python3.6/site-packages/keras/engine/training_generator.py\u001b[0m in \u001b[0;36mfit_generator\u001b[0;34m(model, generator, steps_per_epoch, epochs, verbose, callbacks, validation_data, validation_steps, class_weight, max_queue_size, workers, use_multiprocessing, shuffle, initial_epoch)\u001b[0m\n\u001b[1;32m    189\u001b[0m                 outs = model.train_on_batch(x, y,\n\u001b[1;32m    190\u001b[0m                                             \u001b[0msample_weight\u001b[0m\u001b[0;34m=\u001b[0m\u001b[0msample_weight\u001b[0m\u001b[0;34m,\u001b[0m\u001b[0;34m\u001b[0m\u001b[0m\n\u001b[0;32m--> 191\u001b[0;31m                                             class_weight=class_weight)\n\u001b[0m\u001b[1;32m    192\u001b[0m \u001b[0;34m\u001b[0m\u001b[0m\n\u001b[1;32m    193\u001b[0m                 \u001b[0;32mif\u001b[0m \u001b[0;32mnot\u001b[0m \u001b[0misinstance\u001b[0m\u001b[0;34m(\u001b[0m\u001b[0mouts\u001b[0m\u001b[0;34m,\u001b[0m \u001b[0mlist\u001b[0m\u001b[0;34m)\u001b[0m\u001b[0;34m:\u001b[0m\u001b[0;34m\u001b[0m\u001b[0m\n",
      "\u001b[0;32m/usr/local/lib/python3.6/site-packages/keras/engine/training.py\u001b[0m in \u001b[0;36mtrain_on_batch\u001b[0;34m(self, x, y, sample_weight, class_weight)\u001b[0m\n\u001b[1;32m   1218\u001b[0m             \u001b[0mins\u001b[0m \u001b[0;34m=\u001b[0m \u001b[0mx\u001b[0m \u001b[0;34m+\u001b[0m \u001b[0my\u001b[0m \u001b[0;34m+\u001b[0m \u001b[0msample_weights\u001b[0m\u001b[0;34m\u001b[0m\u001b[0m\n\u001b[1;32m   1219\u001b[0m         \u001b[0mself\u001b[0m\u001b[0;34m.\u001b[0m\u001b[0m_make_train_function\u001b[0m\u001b[0;34m(\u001b[0m\u001b[0;34m)\u001b[0m\u001b[0;34m\u001b[0m\u001b[0m\n\u001b[0;32m-> 1220\u001b[0;31m         \u001b[0moutputs\u001b[0m \u001b[0;34m=\u001b[0m \u001b[0mself\u001b[0m\u001b[0;34m.\u001b[0m\u001b[0mtrain_function\u001b[0m\u001b[0;34m(\u001b[0m\u001b[0mins\u001b[0m\u001b[0;34m)\u001b[0m\u001b[0;34m\u001b[0m\u001b[0m\n\u001b[0m\u001b[1;32m   1221\u001b[0m         \u001b[0;32mif\u001b[0m \u001b[0mlen\u001b[0m\u001b[0;34m(\u001b[0m\u001b[0moutputs\u001b[0m\u001b[0;34m)\u001b[0m \u001b[0;34m==\u001b[0m \u001b[0;36m1\u001b[0m\u001b[0;34m:\u001b[0m\u001b[0;34m\u001b[0m\u001b[0m\n\u001b[1;32m   1222\u001b[0m             \u001b[0;32mreturn\u001b[0m \u001b[0moutputs\u001b[0m\u001b[0;34m[\u001b[0m\u001b[0;36m0\u001b[0m\u001b[0;34m]\u001b[0m\u001b[0;34m\u001b[0m\u001b[0m\n",
      "\u001b[0;32m/usr/local/lib/python3.6/site-packages/keras/backend/tensorflow_backend.py\u001b[0m in \u001b[0;36m__call__\u001b[0;34m(self, inputs)\u001b[0m\n\u001b[1;32m   2659\u001b[0m                 \u001b[0;32mreturn\u001b[0m \u001b[0mself\u001b[0m\u001b[0;34m.\u001b[0m\u001b[0m_legacy_call\u001b[0m\u001b[0;34m(\u001b[0m\u001b[0minputs\u001b[0m\u001b[0;34m)\u001b[0m\u001b[0;34m\u001b[0m\u001b[0m\n\u001b[1;32m   2660\u001b[0m \u001b[0;34m\u001b[0m\u001b[0m\n\u001b[0;32m-> 2661\u001b[0;31m             \u001b[0;32mreturn\u001b[0m \u001b[0mself\u001b[0m\u001b[0;34m.\u001b[0m\u001b[0m_call\u001b[0m\u001b[0;34m(\u001b[0m\u001b[0minputs\u001b[0m\u001b[0;34m)\u001b[0m\u001b[0;34m\u001b[0m\u001b[0m\n\u001b[0m\u001b[1;32m   2662\u001b[0m         \u001b[0;32melse\u001b[0m\u001b[0;34m:\u001b[0m\u001b[0;34m\u001b[0m\u001b[0m\n\u001b[1;32m   2663\u001b[0m             \u001b[0;32mif\u001b[0m \u001b[0mpy_any\u001b[0m\u001b[0;34m(\u001b[0m\u001b[0mis_tensor\u001b[0m\u001b[0;34m(\u001b[0m\u001b[0mx\u001b[0m\u001b[0;34m)\u001b[0m \u001b[0;32mfor\u001b[0m \u001b[0mx\u001b[0m \u001b[0;32min\u001b[0m \u001b[0minputs\u001b[0m\u001b[0;34m)\u001b[0m\u001b[0;34m:\u001b[0m\u001b[0;34m\u001b[0m\u001b[0m\n",
      "\u001b[0;32m/usr/local/lib/python3.6/site-packages/keras/backend/tensorflow_backend.py\u001b[0m in \u001b[0;36m_call\u001b[0;34m(self, inputs)\u001b[0m\n\u001b[1;32m   2629\u001b[0m                                 \u001b[0msymbol_vals\u001b[0m\u001b[0;34m,\u001b[0m\u001b[0;34m\u001b[0m\u001b[0m\n\u001b[1;32m   2630\u001b[0m                                 session)\n\u001b[0;32m-> 2631\u001b[0;31m         \u001b[0mfetched\u001b[0m \u001b[0;34m=\u001b[0m \u001b[0mself\u001b[0m\u001b[0;34m.\u001b[0m\u001b[0m_callable_fn\u001b[0m\u001b[0;34m(\u001b[0m\u001b[0;34m*\u001b[0m\u001b[0marray_vals\u001b[0m\u001b[0;34m)\u001b[0m\u001b[0;34m\u001b[0m\u001b[0m\n\u001b[0m\u001b[1;32m   2632\u001b[0m         \u001b[0;32mreturn\u001b[0m \u001b[0mfetched\u001b[0m\u001b[0;34m[\u001b[0m\u001b[0;34m:\u001b[0m\u001b[0mlen\u001b[0m\u001b[0;34m(\u001b[0m\u001b[0mself\u001b[0m\u001b[0;34m.\u001b[0m\u001b[0moutputs\u001b[0m\u001b[0;34m)\u001b[0m\u001b[0;34m]\u001b[0m\u001b[0;34m\u001b[0m\u001b[0m\n\u001b[1;32m   2633\u001b[0m \u001b[0;34m\u001b[0m\u001b[0m\n",
      "\u001b[0;32m/usr/local/lib/python3.6/site-packages/tensorflow/python/client/session.py\u001b[0m in \u001b[0;36m__call__\u001b[0;34m(self, *args)\u001b[0m\n\u001b[1;32m   1449\u001b[0m         \u001b[0;32mif\u001b[0m \u001b[0mself\u001b[0m\u001b[0;34m.\u001b[0m\u001b[0m_session\u001b[0m\u001b[0;34m.\u001b[0m\u001b[0m_created_with_new_api\u001b[0m\u001b[0;34m:\u001b[0m\u001b[0;34m\u001b[0m\u001b[0m\n\u001b[1;32m   1450\u001b[0m           return tf_session.TF_SessionRunCallable(\n\u001b[0;32m-> 1451\u001b[0;31m               self._session._session, self._handle, args, status, None)\n\u001b[0m\u001b[1;32m   1452\u001b[0m         \u001b[0;32melse\u001b[0m\u001b[0;34m:\u001b[0m\u001b[0;34m\u001b[0m\u001b[0m\n\u001b[1;32m   1453\u001b[0m           return tf_session.TF_DeprecatedSessionRunCallable(\n",
      "\u001b[0;31mKeyboardInterrupt\u001b[0m: "
     ]
    }
   ],
   "source": [
    "# using generator\n",
    "history = model.fit_generator(datagen.flow(train_data, train_label, batch_size=batch_size),\n",
    "                    steps_per_epoch=len(train_data)/batch_size,\n",
    "                    epochs=epochs,validation_data=(vali_data,vali_label))"
   ]
  },
  {
   "cell_type": "markdown",
   "metadata": {},
   "source": [
    "## Show the loss trend"
   ]
  },
  {
   "cell_type": "code",
   "execution_count": 11,
   "metadata": {},
   "outputs": [
    {
     "name": "stdout",
     "output_type": "stream",
     "text": [
      "dict_keys(['val_loss', 'val_acc', 'loss', 'acc'])\n"
     ]
    },
    {
     "data": {
      "text/plain": [
       "<matplotlib.legend.Legend at 0x7f1bec442c18>"
      ]
     },
     "execution_count": 11,
     "metadata": {},
     "output_type": "execute_result"
    },
    {
     "data": {
      "image/png": "[encoded data removed]",
      "text/plain": [
       "<matplotlib.figure.Figure at 0x7f1bec45b6d8>"
      ]
     },
     "metadata": {},
     "output_type": "display_data"
    }
   ],
   "source": [
    "print(history.history.keys())\n",
    "\n",
    "fig = plt.figure()\n",
    "plt.plot(history.history['loss'])\n",
    "plt.plot(history.history['val_loss'])\n",
    "plt.title('model loss')\n",
    "plt.ylabel('loss')\n",
    "plt.xlabel('epoch')\n",
    "plt.legend(['train', 'test'], loc='upper right')"
   ]
  },
  {
   "cell_type": "markdown",
   "metadata": {},
   "source": [
    "## Show the accuracy trend"
   ]
  },
  {
   "cell_type": "code",
   "execution_count": 12,
   "metadata": {},
   "outputs": [
    {
     "data": {
      "text/plain": [
       "<matplotlib.legend.Legend at 0x7f1bec182240>"
      ]
     },
     "execution_count": 12,
     "metadata": {},
     "output_type": "execute_result"
    },
    {
     "data": {
      "image/png": "[encoded data removed]",
      "text/plain": [
       "<matplotlib.figure.Figure at 0x7f1bec493940>"
      ]
     },
     "metadata": {},
     "output_type": "display_data"
    }
   ],
   "source": [
    "fig = plt.figure()\n",
    "plt.plot(history.history['acc'])\n",
    "plt.plot(history.history['val_acc'])\n",
    "plt.title('model accuracy')\n",
    "plt.ylabel('accuracy')\n",
    "plt.xlabel('epoch')\n",
    "plt.legend(['train', 'test'], loc='upper left')"
   ]
  },
  {
   "cell_type": "markdown",
   "metadata": {},
   "source": [
    "## Save model to local file"
   ]
  },
  {
   "cell_type": "code",
   "execution_count": 16,
   "metadata": {},
   "outputs": [],
   "source": [
    "model.save('my_model-5E-5-WD-DP-E200-9213.h5') "
   ]
  },
  {
   "cell_type": "markdown",
   "metadata": {},
   "source": [
    "## Load model and show their structure"
   ]
  },
  {
   "cell_type": "code",
   "execution_count": 3,
   "metadata": {
    "scrolled": true
   },
   "outputs": [
    {
     "data": {
      "image/svg+xml": [
       "<svg height=\"994pt\" viewBox=\"0.00 0.00 171.00 994.00\" width=\"171pt\" xmlns=\"http://www.w3.org/2000/svg\" xmlns:xlink=\"http://www.w3.org/1999/xlink\">\n",
       "<g class=\"graph\" id=\"graph0\" transform=\"scale(1 1) rotate(0) translate(4 990)\">\n",
       "<title>G</title>\n",
       "<polygon fill=\"#ffffff\" points=\"-4,4 -4,-990 167,-990 167,4 -4,4\" stroke=\"transparent\"/>\n",
       "<!-- 104105935088 -->\n",
       "<g class=\"node\" id=\"node1\">\n",
       "<title>104105935088</title>\n",
       "<polygon fill=\"none\" points=\"31,-949.5 31,-985.5 132,-985.5 132,-949.5 31,-949.5\" stroke=\"#000000\"/>\n",
       "<text fill=\"#000000\" font-family=\"Times,serif\" font-size=\"14.00\" text-anchor=\"middle\" x=\"81.5\" y=\"-963.8\">input_1: InputLayer</text>\n",
       "</g>\n",
       "<!-- 104105935200 -->\n",
       "<g class=\"node\" id=\"node2\">\n",
       "<title>104105935200</title>\n",
       "<polygon fill=\"none\" points=\"31.5,-876.5 31.5,-912.5 131.5,-912.5 131.5,-876.5 31.5,-876.5\" stroke=\"#000000\"/>\n",
       "<text fill=\"#000000\" font-family=\"Times,serif\" font-size=\"14.00\" text-anchor=\"middle\" x=\"81.5\" y=\"-890.8\">dropout_1: Dropout</text>\n",
       "</g>\n",
       "<!-- 104105935088&#45;&gt;104105935200 -->\n",
       "<g class=\"edge\" id=\"edge1\">\n",
       "<title>104105935088-&gt;104105935200</title>\n",
       "<path d=\"M81.5,-949.4551C81.5,-941.3828 81.5,-931.6764 81.5,-922.6817\" fill=\"none\" stroke=\"#000000\"/>\n",
       "<polygon fill=\"#000000\" points=\"85.0001,-922.5903 81.5,-912.5904 78.0001,-922.5904 85.0001,-922.5903\" stroke=\"#000000\"/>\n",
       "</g>\n",
       "<!-- 104105935816 -->\n",
       "<g class=\"node\" id=\"node3\">\n",
       "<title>104105935816</title>\n",
       "<polygon fill=\"none\" points=\"32,-803.5 32,-839.5 131,-839.5 131,-803.5 32,-803.5\" stroke=\"#000000\"/>\n",
       "<text fill=\"#000000\" font-family=\"Times,serif\" font-size=\"14.00\" text-anchor=\"middle\" x=\"81.5\" y=\"-817.8\">conv2d_1: Conv2D</text>\n",
       "</g>\n",
       "<!-- 104105935200&#45;&gt;104105935816 -->\n",
       "<g class=\"edge\" id=\"edge2\">\n",
       "<title>104105935200-&gt;104105935816</title>\n",
       "<path d=\"M81.5,-876.4551C81.5,-868.3828 81.5,-858.6764 81.5,-849.6817\" fill=\"none\" stroke=\"#000000\"/>\n",
       "<polygon fill=\"#000000\" points=\"85.0001,-849.5903 81.5,-839.5904 78.0001,-849.5904 85.0001,-849.5903\" stroke=\"#000000\"/>\n",
       "</g>\n",
       "<!-- 104105935256 -->\n",
       "<g class=\"node\" id=\"node4\">\n",
       "<title>104105935256</title>\n",
       "<polygon fill=\"none\" points=\"0,-730.5 0,-766.5 163,-766.5 163,-730.5 0,-730.5\" stroke=\"#000000\"/>\n",
       "<text fill=\"#000000\" font-family=\"Times,serif\" font-size=\"14.00\" text-anchor=\"middle\" x=\"81.5\" y=\"-744.8\">max_pooling2d_1: MaxPooling2D</text>\n",
       "</g>\n",
       "<!-- 104105935816&#45;&gt;104105935256 -->\n",
       "<g class=\"edge\" id=\"edge3\">\n",
       "<title>104105935816-&gt;104105935256</title>\n",
       "<path d=\"M81.5,-803.4551C81.5,-795.3828 81.5,-785.6764 81.5,-776.6817\" fill=\"none\" stroke=\"#000000\"/>\n",
       "<polygon fill=\"#000000\" points=\"85.0001,-776.5903 81.5,-766.5904 78.0001,-776.5904 85.0001,-776.5903\" stroke=\"#000000\"/>\n",
       "</g>\n",
       "<!-- 104105935760 -->\n",
       "<g class=\"node\" id=\"node5\">\n",
       "<title>104105935760</title>\n",
       "<polygon fill=\"none\" points=\"31.5,-657.5 31.5,-693.5 131.5,-693.5 131.5,-657.5 31.5,-657.5\" stroke=\"#000000\"/>\n",
       "<text fill=\"#000000\" font-family=\"Times,serif\" font-size=\"14.00\" text-anchor=\"middle\" x=\"81.5\" y=\"-671.8\">dropout_2: Dropout</text>\n",
       "</g>\n",
       "<!-- 104105935256&#45;&gt;104105935760 -->\n",
       "<g class=\"edge\" id=\"edge4\">\n",
       "<title>104105935256-&gt;104105935760</title>\n",
       "<path d=\"M81.5,-730.4551C81.5,-722.3828 81.5,-712.6764 81.5,-703.6817\" fill=\"none\" stroke=\"#000000\"/>\n",
       "<polygon fill=\"#000000\" points=\"85.0001,-703.5903 81.5,-693.5904 78.0001,-703.5904 85.0001,-703.5903\" stroke=\"#000000\"/>\n",
       "</g>\n",
       "<!-- 104105936320 -->\n",
       "<g class=\"node\" id=\"node6\">\n",
       "<title>104105936320</title>\n",
       "<polygon fill=\"none\" points=\"32,-584.5 32,-620.5 131,-620.5 131,-584.5 32,-584.5\" stroke=\"#000000\"/>\n",
       "<text fill=\"#000000\" font-family=\"Times,serif\" font-size=\"14.00\" text-anchor=\"middle\" x=\"81.5\" y=\"-598.8\">conv2d_2: Conv2D</text>\n",
       "</g>\n",
       "<!-- 104105935760&#45;&gt;104105936320 -->\n",
       "<g class=\"edge\" id=\"edge5\">\n",
       "<title>104105935760-&gt;104105936320</title>\n",
       "<path d=\"M81.5,-657.4551C81.5,-649.3828 81.5,-639.6764 81.5,-630.6817\" fill=\"none\" stroke=\"#000000\"/>\n",
       "<polygon fill=\"#000000\" points=\"85.0001,-630.5903 81.5,-620.5904 78.0001,-630.5904 85.0001,-630.5903\" stroke=\"#000000\"/>\n",
       "</g>\n",
       "<!-- 104105936376 -->\n",
       "<g class=\"node\" id=\"node7\">\n",
       "<title>104105936376</title>\n",
       "<polygon fill=\"none\" points=\"0,-511.5 0,-547.5 163,-547.5 163,-511.5 0,-511.5\" stroke=\"#000000\"/>\n",
       "<text fill=\"#000000\" font-family=\"Times,serif\" font-size=\"14.00\" text-anchor=\"middle\" x=\"81.5\" y=\"-525.8\">max_pooling2d_2: MaxPooling2D</text>\n",
       "</g>\n",
       "<!-- 104105936320&#45;&gt;104105936376 -->\n",
       "<g class=\"edge\" id=\"edge6\">\n",
       "<title>104105936320-&gt;104105936376</title>\n",
       "<path d=\"M81.5,-584.4551C81.5,-576.3828 81.5,-566.6764 81.5,-557.6817\" fill=\"none\" stroke=\"#000000\"/>\n",
       "<polygon fill=\"#000000\" points=\"85.0001,-557.5903 81.5,-547.5904 78.0001,-557.5904 85.0001,-557.5903\" stroke=\"#000000\"/>\n",
       "</g>\n",
       "<!-- 104105936712 -->\n",
       "<g class=\"node\" id=\"node8\">\n",
       "<title>104105936712</title>\n",
       "<polygon fill=\"none\" points=\"31.5,-438.5 31.5,-474.5 131.5,-474.5 131.5,-438.5 31.5,-438.5\" stroke=\"#000000\"/>\n",
       "<text fill=\"#000000\" font-family=\"Times,serif\" font-size=\"14.00\" text-anchor=\"middle\" x=\"81.5\" y=\"-452.8\">dropout_3: Dropout</text>\n",
       "</g>\n",
       "<!-- 104105936376&#45;&gt;104105936712 -->\n",
       "<g class=\"edge\" id=\"edge7\">\n",
       "<title>104105936376-&gt;104105936712</title>\n",
       "<path d=\"M81.5,-511.4551C81.5,-503.3828 81.5,-493.6764 81.5,-484.6817\" fill=\"none\" stroke=\"#000000\"/>\n",
       "<polygon fill=\"#000000\" points=\"85.0001,-484.5903 81.5,-474.5904 78.0001,-484.5904 85.0001,-484.5903\" stroke=\"#000000\"/>\n",
       "</g>\n",
       "<!-- 104105936936 -->\n",
       "<g class=\"node\" id=\"node9\">\n",
       "<title>104105936936</title>\n",
       "<polygon fill=\"none\" points=\"32,-365.5 32,-401.5 131,-401.5 131,-365.5 32,-365.5\" stroke=\"#000000\"/>\n",
       "<text fill=\"#000000\" font-family=\"Times,serif\" font-size=\"14.00\" text-anchor=\"middle\" x=\"81.5\" y=\"-379.8\">conv2d_3: Conv2D</text>\n",
       "</g>\n",
       "<!-- 104105936712&#45;&gt;104105936936 -->\n",
       "<g class=\"edge\" id=\"edge8\">\n",
       "<title>104105936712-&gt;104105936936</title>\n",
       "<path d=\"M81.5,-438.4551C81.5,-430.3828 81.5,-420.6764 81.5,-411.6817\" fill=\"none\" stroke=\"#000000\"/>\n",
       "<polygon fill=\"#000000\" points=\"85.0001,-411.5903 81.5,-401.5904 78.0001,-411.5904 85.0001,-411.5903\" stroke=\"#000000\"/>\n",
       "</g>\n",
       "<!-- 104105936992 -->\n",
       "<g class=\"node\" id=\"node10\">\n",
       "<title>104105936992</title>\n",
       "<polygon fill=\"none\" points=\"0,-292.5 0,-328.5 163,-328.5 163,-292.5 0,-292.5\" stroke=\"#000000\"/>\n",
       "<text fill=\"#000000\" font-family=\"Times,serif\" font-size=\"14.00\" text-anchor=\"middle\" x=\"81.5\" y=\"-306.8\">max_pooling2d_3: MaxPooling2D</text>\n",
       "</g>\n",
       "<!-- 104105936936&#45;&gt;104105936992 -->\n",
       "<g class=\"edge\" id=\"edge9\">\n",
       "<title>104105936936-&gt;104105936992</title>\n",
       "<path d=\"M81.5,-365.4551C81.5,-357.3828 81.5,-347.6764 81.5,-338.6817\" fill=\"none\" stroke=\"#000000\"/>\n",
       "<polygon fill=\"#000000\" points=\"85.0001,-338.5903 81.5,-328.5904 78.0001,-338.5904 85.0001,-338.5903\" stroke=\"#000000\"/>\n",
       "</g>\n",
       "<!-- 104105937328 -->\n",
       "<g class=\"node\" id=\"node11\">\n",
       "<title>104105937328</title>\n",
       "<polygon fill=\"none\" points=\"37.5,-219.5 37.5,-255.5 125.5,-255.5 125.5,-219.5 37.5,-219.5\" stroke=\"#000000\"/>\n",
       "<text fill=\"#000000\" font-family=\"Times,serif\" font-size=\"14.00\" text-anchor=\"middle\" x=\"81.5\" y=\"-233.8\">flatten_1: Flatten</text>\n",
       "</g>\n",
       "<!-- 104105936992&#45;&gt;104105937328 -->\n",
       "<g class=\"edge\" id=\"edge10\">\n",
       "<title>104105936992-&gt;104105937328</title>\n",
       "<path d=\"M81.5,-292.4551C81.5,-284.3828 81.5,-274.6764 81.5,-265.6817\" fill=\"none\" stroke=\"#000000\"/>\n",
       "<polygon fill=\"#000000\" points=\"85.0001,-265.5903 81.5,-255.5904 78.0001,-265.5904 85.0001,-265.5903\" stroke=\"#000000\"/>\n",
       "</g>\n",
       "<!-- 104105937552 -->\n",
       "<g class=\"node\" id=\"node12\">\n",
       "<title>104105937552</title>\n",
       "<polygon fill=\"none\" points=\"40,-146.5 40,-182.5 123,-182.5 123,-146.5 40,-146.5\" stroke=\"#000000\"/>\n",
       "<text fill=\"#000000\" font-family=\"Times,serif\" font-size=\"14.00\" text-anchor=\"middle\" x=\"81.5\" y=\"-160.8\">dense_1: Dense</text>\n",
       "</g>\n",
       "<!-- 104105937328&#45;&gt;104105937552 -->\n",
       "<g class=\"edge\" id=\"edge11\">\n",
       "<title>104105937328-&gt;104105937552</title>\n",
       "<path d=\"M81.5,-219.4551C81.5,-211.3828 81.5,-201.6764 81.5,-192.6817\" fill=\"none\" stroke=\"#000000\"/>\n",
       "<polygon fill=\"#000000\" points=\"85.0001,-192.5903 81.5,-182.5904 78.0001,-192.5904 85.0001,-192.5903\" stroke=\"#000000\"/>\n",
       "</g>\n",
       "<!-- 104105937664 -->\n",
       "<g class=\"node\" id=\"node13\">\n",
       "<title>104105937664</title>\n",
       "<polygon fill=\"none\" points=\"40,-73.5 40,-109.5 123,-109.5 123,-73.5 40,-73.5\" stroke=\"#000000\"/>\n",
       "<text fill=\"#000000\" font-family=\"Times,serif\" font-size=\"14.00\" text-anchor=\"middle\" x=\"81.5\" y=\"-87.8\">dense_2: Dense</text>\n",
       "</g>\n",
       "<!-- 104105937552&#45;&gt;104105937664 -->\n",
       "<g class=\"edge\" id=\"edge12\">\n",
       "<title>104105937552-&gt;104105937664</title>\n",
       "<path d=\"M81.5,-146.4551C81.5,-138.3828 81.5,-128.6764 81.5,-119.6817\" fill=\"none\" stroke=\"#000000\"/>\n",
       "<polygon fill=\"#000000\" points=\"85.0001,-119.5903 81.5,-109.5904 78.0001,-119.5904 85.0001,-119.5903\" stroke=\"#000000\"/>\n",
       "</g>\n",
       "<!-- 104105938000 -->\n",
       "<g class=\"node\" id=\"node14\">\n",
       "<title>104105938000</title>\n",
       "<polygon fill=\"none\" points=\"40,-.5 40,-36.5 123,-36.5 123,-.5 40,-.5\" stroke=\"#000000\"/>\n",
       "<text fill=\"#000000\" font-family=\"Times,serif\" font-size=\"14.00\" text-anchor=\"middle\" x=\"81.5\" y=\"-14.8\">dense_3: Dense</text>\n",
       "</g>\n",
       "<!-- 104105937664&#45;&gt;104105938000 -->\n",
       "<g class=\"edge\" id=\"edge13\">\n",
       "<title>104105937664-&gt;104105938000</title>\n",
       "<path d=\"M81.5,-73.4551C81.5,-65.3828 81.5,-55.6764 81.5,-46.6817\" fill=\"none\" stroke=\"#000000\"/>\n",
       "<polygon fill=\"#000000\" points=\"85.0001,-46.5903 81.5,-36.5904 78.0001,-46.5904 85.0001,-46.5903\" stroke=\"#000000\"/>\n",
       "</g>\n",
       "</g>\n",
       "</svg>"
      ],
      "text/plain": [
       "<IPython.core.display.SVG object>"
      ]
     },
     "execution_count": 3,
     "metadata": {},
     "output_type": "execute_result"
    }
   ],
   "source": [
    "model = load_model('my_model-5E-5-WD-DP-E200-9213.h5')\n",
    "from IPython.display import SVG\n",
    "from keras.utils.vis_utils import model_to_dot\n",
    "SVG(model_to_dot(model).create(prog='dot', format='svg'))"
   ]
  }
 ],
 "metadata": {
  "kernelspec": {
   "display_name": "Python 3",
   "language": "python",
   "name": "python3"
  },
  "language_info": {
   "codemirror_mode": {
    "name": "ipython",
    "version": 3
   },
   "file_extension": ".py",
   "mimetype": "text/x-python",
   "name": "python",
   "nbconvert_exporter": "python",
   "pygments_lexer": "ipython3",
   "version": "3.6.5"
  }
 },
 "nbformat": 4,
 "nbformat_minor": 2
}
